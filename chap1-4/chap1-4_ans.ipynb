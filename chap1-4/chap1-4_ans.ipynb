{
 "cells": [
  {
   "cell_type": "code",
   "execution_count": 1,
   "metadata": {
    "ExecuteTime": {
     "end_time": "2019-02-11T14:30:16.058642Z",
     "start_time": "2019-02-11T14:30:15.252596Z"
    }
   },
   "outputs": [],
   "source": [
    "import numpy as np\n",
    "import pandas as pd\n",
    "import matplotlib.pyplot as plt"
   ]
  },
  {
   "cell_type": "code",
   "execution_count": 2,
   "metadata": {
    "ExecuteTime": {
     "end_time": "2019-02-11T14:30:16.083644Z",
     "start_time": "2019-02-11T14:30:16.070643Z"
    }
   },
   "outputs": [],
   "source": [
    "np.random.seed(114514)"
   ]
  },
  {
   "cell_type": "markdown",
   "metadata": {},
   "source": [
    "# 2.4"
   ]
  },
  {
   "cell_type": "code",
   "execution_count": 25,
   "metadata": {
    "ExecuteTime": {
     "end_time": "2019-02-11T14:52:48.320863Z",
     "start_time": "2019-02-11T14:52:48.308863Z"
    }
   },
   "outputs": [],
   "source": [
    "points = [0, 1, 2, 3, 5, 5, 7, 8, 9, 10]"
   ]
  },
  {
   "cell_type": "code",
   "execution_count": 26,
   "metadata": {
    "ExecuteTime": {
     "end_time": "2019-02-11T14:52:49.106908Z",
     "start_time": "2019-02-11T14:52:49.093908Z"
    }
   },
   "outputs": [],
   "source": [
    "mean = np.mean(points)\n",
    "std = np.std(points)"
   ]
  },
  {
   "cell_type": "code",
   "execution_count": 27,
   "metadata": {
    "ExecuteTime": {
     "end_time": "2019-02-11T14:52:49.617938Z",
     "start_time": "2019-02-11T14:52:49.611937Z"
    },
    "scrolled": true
   },
   "outputs": [
    {
     "data": {
      "text/plain": [
       "(5.0, 3.286335345030997)"
      ]
     },
     "execution_count": 27,
     "metadata": {},
     "output_type": "execute_result"
    }
   ],
   "source": [
    "mean, std"
   ]
  },
  {
   "cell_type": "code",
   "execution_count": 28,
   "metadata": {
    "ExecuteTime": {
     "end_time": "2019-02-11T14:52:50.040962Z",
     "start_time": "2019-02-11T14:52:50.032961Z"
    }
   },
   "outputs": [],
   "source": [
    "std_points = [(point - mean) / std for point in points]"
   ]
  },
  {
   "cell_type": "markdown",
   "metadata": {},
   "source": [
    "標準得点"
   ]
  },
  {
   "cell_type": "code",
   "execution_count": 29,
   "metadata": {
    "ExecuteTime": {
     "end_time": "2019-02-11T14:52:57.548391Z",
     "start_time": "2019-02-11T14:52:57.532390Z"
    },
    "scrolled": true
   },
   "outputs": [
    {
     "data": {
      "text/plain": [
       "[-1.5214515486254614,\n",
       " -1.217161238900369,\n",
       " -0.9128709291752768,\n",
       " -0.6085806194501845,\n",
       " 0.0,\n",
       " 0.0,\n",
       " 0.6085806194501845,\n",
       " 0.9128709291752768,\n",
       " 1.217161238900369,\n",
       " 1.5214515486254614]"
      ]
     },
     "execution_count": 29,
     "metadata": {},
     "output_type": "execute_result"
    }
   ],
   "source": [
    "std_points"
   ]
  },
  {
   "cell_type": "markdown",
   "metadata": {},
   "source": [
    "へんさち"
   ]
  },
  {
   "cell_type": "code",
   "execution_count": 31,
   "metadata": {
    "ExecuteTime": {
     "end_time": "2019-02-11T14:55:05.768094Z",
     "start_time": "2019-02-11T14:55:05.757093Z"
    }
   },
   "outputs": [],
   "source": [
    "hensachi  =  [10 * point + 50 for point in std_points]"
   ]
  },
  {
   "cell_type": "code",
   "execution_count": 33,
   "metadata": {
    "ExecuteTime": {
     "end_time": "2019-02-11T14:55:14.941618Z",
     "start_time": "2019-02-11T14:55:14.923617Z"
    }
   },
   "outputs": [
    {
     "data": {
      "text/plain": [
       "[34.78548451374539,\n",
       " 37.82838761099631,\n",
       " 40.87129070824723,\n",
       " 43.91419380549816,\n",
       " 50.0,\n",
       " 50.0,\n",
       " 56.08580619450184,\n",
       " 59.12870929175277,\n",
       " 62.17161238900369,\n",
       " 65.21451548625461]"
      ]
     },
     "execution_count": 33,
     "metadata": {},
     "output_type": "execute_result"
    }
   ],
   "source": [
    "hensachi"
   ]
  },
  {
   "cell_type": "markdown",
   "metadata": {},
   "source": [
    "# 3.1"
   ]
  },
  {
   "cell_type": "markdown",
   "metadata": {},
   "source": [
    "データは教科書のまえがきの最後のリンクからがんばって探すと見つかります"
   ]
  },
  {
   "cell_type": "code",
   "execution_count": 11,
   "metadata": {
    "ExecuteTime": {
     "end_time": "2019-02-11T14:38:31.825950Z",
     "start_time": "2019-02-11T14:38:31.747945Z"
    }
   },
   "outputs": [],
   "source": [
    "senkyo = pd.read_csv('./1-0d-1.csv', encoding='shift-jis')"
   ]
  },
  {
   "cell_type": "code",
   "execution_count": 12,
   "metadata": {
    "ExecuteTime": {
     "end_time": "2019-02-11T14:38:40.649454Z",
     "start_time": "2019-02-11T14:38:40.634453Z"
    }
   },
   "outputs": [
    {
     "data": {
      "text/html": [
       "<div>\n",
       "<style scoped>\n",
       "    .dataframe tbody tr th:only-of-type {\n",
       "        vertical-align: middle;\n",
       "    }\n",
       "\n",
       "    .dataframe tbody tr th {\n",
       "        vertical-align: top;\n",
       "    }\n",
       "\n",
       "    .dataframe thead th {\n",
       "        text-align: right;\n",
       "    }\n",
       "</style>\n",
       "<table border=\"1\" class=\"dataframe\">\n",
       "  <thead>\n",
       "    <tr style=\"text-align: right;\">\n",
       "      <th></th>\n",
       "      <th>都道府県</th>\n",
       "      <th>自民得票率</th>\n",
       "      <th>持家比率</th>\n",
       "    </tr>\n",
       "  </thead>\n",
       "  <tbody>\n",
       "    <tr>\n",
       "      <th>0</th>\n",
       "      <td>北海道</td>\n",
       "      <td>41.4</td>\n",
       "      <td>52.8</td>\n",
       "    </tr>\n",
       "    <tr>\n",
       "      <th>1</th>\n",
       "      <td>青　 森</td>\n",
       "      <td>76.3</td>\n",
       "      <td>71.2</td>\n",
       "    </tr>\n",
       "    <tr>\n",
       "      <th>2</th>\n",
       "      <td>岩　 手</td>\n",
       "      <td>59.2</td>\n",
       "      <td>72.6</td>\n",
       "    </tr>\n",
       "    <tr>\n",
       "      <th>3</th>\n",
       "      <td>宮　 城</td>\n",
       "      <td>51.8</td>\n",
       "      <td>63.7</td>\n",
       "    </tr>\n",
       "    <tr>\n",
       "      <th>4</th>\n",
       "      <td>秋　 田</td>\n",
       "      <td>52.5</td>\n",
       "      <td>81.3</td>\n",
       "    </tr>\n",
       "  </tbody>\n",
       "</table>\n",
       "</div>"
      ],
      "text/plain": [
       "   都道府県  自民得票率  持家比率\n",
       "0   北海道   41.4  52.8\n",
       "1  青　 森   76.3  71.2\n",
       "2  岩　 手   59.2  72.6\n",
       "3  宮　 城   51.8  63.7\n",
       "4  秋　 田   52.5  81.3"
      ]
     },
     "execution_count": 12,
     "metadata": {},
     "output_type": "execute_result"
    }
   ],
   "source": [
    "senkyo.head()"
   ]
  },
  {
   "cell_type": "markdown",
   "metadata": {},
   "source": [
    "散布図"
   ]
  },
  {
   "cell_type": "code",
   "execution_count": 16,
   "metadata": {
    "ExecuteTime": {
     "end_time": "2019-02-11T14:39:37.192112Z",
     "start_time": "2019-02-11T14:39:36.994101Z"
    },
    "scrolled": true
   },
   "outputs": [
    {
     "data": {
      "text/plain": [
       "<matplotlib.axes._subplots.AxesSubplot at 0x9c47b00>"
      ]
     },
     "execution_count": 16,
     "metadata": {},
     "output_type": "execute_result"
    },
    {
     "data": {
      "image/png": "[encoded data removed]",
      "text/plain": [
       "<Figure size 432x288 with 1 Axes>"
      ]
     },
     "metadata": {
      "needs_background": "light"
     },
     "output_type": "display_data"
    }
   ],
   "source": [
    "senkyo.plot.scatter('自民得票率', '持家比率')"
   ]
  },
  {
   "cell_type": "markdown",
   "metadata": {},
   "source": [
    "相関係数"
   ]
  },
  {
   "cell_type": "code",
   "execution_count": 17,
   "metadata": {
    "ExecuteTime": {
     "end_time": "2019-02-11T14:40:24.297807Z",
     "start_time": "2019-02-11T14:40:24.280806Z"
    },
    "scrolled": true
   },
   "outputs": [
    {
     "data": {
      "text/html": [
       "<div>\n",
       "<style scoped>\n",
       "    .dataframe tbody tr th:only-of-type {\n",
       "        vertical-align: middle;\n",
       "    }\n",
       "\n",
       "    .dataframe tbody tr th {\n",
       "        vertical-align: top;\n",
       "    }\n",
       "\n",
       "    .dataframe thead th {\n",
       "        text-align: right;\n",
       "    }\n",
       "</style>\n",
       "<table border=\"1\" class=\"dataframe\">\n",
       "  <thead>\n",
       "    <tr style=\"text-align: right;\">\n",
       "      <th></th>\n",
       "      <th>自民得票率</th>\n",
       "      <th>持家比率</th>\n",
       "    </tr>\n",
       "  </thead>\n",
       "  <tbody>\n",
       "    <tr>\n",
       "      <th>自民得票率</th>\n",
       "      <td>1.000000</td>\n",
       "      <td>0.638724</td>\n",
       "    </tr>\n",
       "    <tr>\n",
       "      <th>持家比率</th>\n",
       "      <td>0.638724</td>\n",
       "      <td>1.000000</td>\n",
       "    </tr>\n",
       "  </tbody>\n",
       "</table>\n",
       "</div>"
      ],
      "text/plain": [
       "          自民得票率      持家比率\n",
       "自民得票率  1.000000  0.638724\n",
       "持家比率   0.638724  1.000000"
      ]
     },
     "execution_count": 17,
     "metadata": {},
     "output_type": "execute_result"
    }
   ],
   "source": [
    "senkyo.corr()"
   ]
  },
  {
   "cell_type": "markdown",
   "metadata": {},
   "source": [
    "電卓でやるなら、相関係数 = 共分散 ÷ (分散1×分散2) とすればよい。"
   ]
  },
  {
   "cell_type": "markdown",
   "metadata": {},
   "source": [
    "教科書的にはとても弱い相関？散布図見た感じは相関はありそう"
   ]
  },
  {
   "cell_type": "markdown",
   "metadata": {},
   "source": [
    "# 3.4"
   ]
  },
  {
   "cell_type": "markdown",
   "metadata": {},
   "source": [
    "## i)"
   ]
  },
  {
   "cell_type": "markdown",
   "metadata": {},
   "source": [
    "np.random.randintで楽をします。"
   ]
  },
  {
   "cell_type": "code",
   "execution_count": 3,
   "metadata": {
    "ExecuteTime": {
     "end_time": "2019-02-11T14:30:16.589673Z",
     "start_time": "2019-02-11T14:30:16.092644Z"
    }
   },
   "outputs": [
    {
     "data": {
      "text/plain": [
       "(array([90409., 90334., 90417., 90458., 90968., 91163., 91183., 90845.,\n",
       "        91567., 91191., 91465.]),\n",
       " array([ 1.        ,  1.90909091,  2.81818182,  3.72727273,  4.63636364,\n",
       "         5.54545455,  6.45454545,  7.36363636,  8.27272727,  9.18181818,\n",
       "        10.09090909, 11.        ]),\n",
       " <a list of 11 Patch objects>)"
      ]
     },
     "execution_count": 3,
     "metadata": {},
     "output_type": "execute_result"
    },
    {
     "data": {
      "image/png": "[encoded data removed]",
      "text/plain": [
       "<Figure size 432x288 with 1 Axes>"
      ]
     },
     "metadata": {
      "needs_background": "light"
     },
     "output_type": "display_data"
    }
   ],
   "source": [
    "plt.hist(np.random.randint(1, high=12, size=1000000), bins=11)"
   ]
  },
  {
   "cell_type": "markdown",
   "metadata": {},
   "source": [
    "## ii)"
   ]
  },
  {
   "cell_type": "markdown",
   "metadata": {},
   "source": [
    "indexは0から始まるので、乱数は0以上10以下でやります。"
   ]
  },
  {
   "cell_type": "code",
   "execution_count": 4,
   "metadata": {
    "ExecuteTime": {
     "end_time": "2019-02-11T14:30:16.622675Z",
     "start_time": "2019-02-11T14:30:16.592673Z"
    }
   },
   "outputs": [
    {
     "data": {
      "text/html": [
       "<div>\n",
       "<style scoped>\n",
       "    .dataframe tbody tr th:only-of-type {\n",
       "        vertical-align: middle;\n",
       "    }\n",
       "\n",
       "    .dataframe tbody tr th {\n",
       "        vertical-align: top;\n",
       "    }\n",
       "\n",
       "    .dataframe thead th {\n",
       "        text-align: right;\n",
       "    }\n",
       "</style>\n",
       "<table border=\"1\" class=\"dataframe\">\n",
       "  <thead>\n",
       "    <tr style=\"text-align: right;\">\n",
       "      <th></th>\n",
       "      <th>male</th>\n",
       "      <th>female</th>\n",
       "    </tr>\n",
       "  </thead>\n",
       "  <tbody>\n",
       "    <tr>\n",
       "      <th>0</th>\n",
       "      <td>71</td>\n",
       "      <td>69</td>\n",
       "    </tr>\n",
       "    <tr>\n",
       "      <th>1</th>\n",
       "      <td>68</td>\n",
       "      <td>64</td>\n",
       "    </tr>\n",
       "    <tr>\n",
       "      <th>2</th>\n",
       "      <td>66</td>\n",
       "      <td>65</td>\n",
       "    </tr>\n",
       "    <tr>\n",
       "      <th>3</th>\n",
       "      <td>67</td>\n",
       "      <td>63</td>\n",
       "    </tr>\n",
       "    <tr>\n",
       "      <th>4</th>\n",
       "      <td>70</td>\n",
       "      <td>65</td>\n",
       "    </tr>\n",
       "    <tr>\n",
       "      <th>5</th>\n",
       "      <td>71</td>\n",
       "      <td>62</td>\n",
       "    </tr>\n",
       "    <tr>\n",
       "      <th>6</th>\n",
       "      <td>70</td>\n",
       "      <td>65</td>\n",
       "    </tr>\n",
       "    <tr>\n",
       "      <th>7</th>\n",
       "      <td>73</td>\n",
       "      <td>64</td>\n",
       "    </tr>\n",
       "    <tr>\n",
       "      <th>8</th>\n",
       "      <td>72</td>\n",
       "      <td>66</td>\n",
       "    </tr>\n",
       "    <tr>\n",
       "      <th>9</th>\n",
       "      <td>65</td>\n",
       "      <td>59</td>\n",
       "    </tr>\n",
       "    <tr>\n",
       "      <th>10</th>\n",
       "      <td>66</td>\n",
       "      <td>62</td>\n",
       "    </tr>\n",
       "  </tbody>\n",
       "</table>\n",
       "</div>"
      ],
      "text/plain": [
       "    male  female\n",
       "0     71      69\n",
       "1     68      64\n",
       "2     66      65\n",
       "3     67      63\n",
       "4     70      65\n",
       "5     71      62\n",
       "6     70      65\n",
       "7     73      64\n",
       "8     72      66\n",
       "9     65      59\n",
       "10    66      62"
      ]
     },
     "execution_count": 4,
     "metadata": {},
     "output_type": "execute_result"
    }
   ],
   "source": [
    "talls = pd.DataFrame({\n",
    "    'male': [71, 68, 66, 67, 70, 71, 70, 73, 72, 65, 66],\n",
    "    'female': [69, 64, 65, 63, 65, 62, 65, 64, 66, 59, 62]})\n",
    "talls"
   ]
  },
  {
   "cell_type": "code",
   "execution_count": 5,
   "metadata": {
    "ExecuteTime": {
     "end_time": "2019-02-11T14:30:16.660677Z",
     "start_time": "2019-02-11T14:30:16.641676Z"
    },
    "code_folding": []
   },
   "outputs": [],
   "source": [
    "def boostrap(talls, n_iter):\n",
    "    result = []\n",
    "    for _ in range(n_iter):\n",
    "        data = pd.DataFrame()\n",
    "        for _ in range(11):\n",
    "            idx = np.random.randint(0, high=11)\n",
    "            data = data.append(talls[idx: idx + 1])\n",
    "        result += [data.corr().values[0, 1]]\n",
    "    return result"
   ]
  },
  {
   "cell_type": "markdown",
   "metadata": {},
   "source": [
    "arrayとかでやったほうがたぶん計算は速いです"
   ]
  },
  {
   "cell_type": "code",
   "execution_count": 6,
   "metadata": {
    "ExecuteTime": {
     "end_time": "2019-02-11T14:30:16.698679Z",
     "start_time": "2019-02-11T14:30:16.669677Z"
    }
   },
   "outputs": [
    {
     "data": {
      "text/plain": [
       "[0.35481884404496294]"
      ]
     },
     "execution_count": 6,
     "metadata": {},
     "output_type": "execute_result"
    }
   ],
   "source": [
    "boostrap(talls, 1)"
   ]
  },
  {
   "cell_type": "markdown",
   "metadata": {},
   "source": [
    "次にヒストグラムにするとおり、1回だけやったときの値はかなりブレます。"
   ]
  },
  {
   "cell_type": "markdown",
   "metadata": {},
   "source": [
    "## iii)"
   ]
  },
  {
   "cell_type": "markdown",
   "metadata": {},
   "source": [
    "200回"
   ]
  },
  {
   "cell_type": "code",
   "execution_count": 8,
   "metadata": {
    "ExecuteTime": {
     "end_time": "2019-02-11T14:30:18.306150Z",
     "start_time": "2019-02-11T14:30:16.725681Z"
    }
   },
   "outputs": [
    {
     "data": {
      "text/plain": [
       "(array([ 7.,  6., 11., 24., 25., 31., 40., 32., 15.]),\n",
       " array([0. , 0.1, 0.2, 0.3, 0.4, 0.5, 0.6, 0.7, 0.8, 0.9]),\n",
       " <a list of 9 Patch objects>)"
      ]
     },
     "execution_count": 8,
     "metadata": {},
     "output_type": "execute_result"
    },
    {
     "data": {
      "image/png": "[encoded data removed]",
      "text/plain": [
       "<Figure size 432x288 with 1 Axes>"
      ]
     },
     "metadata": {
      "needs_background": "light"
     },
     "output_type": "display_data"
    }
   ],
   "source": [
    "plt.hist(boostrap(talls, 200), bins=np.arange(0, 1, 0.1))"
   ]
  },
  {
   "cell_type": "markdown",
   "metadata": {},
   "source": [
    "1000回"
   ]
  },
  {
   "cell_type": "code",
   "execution_count": 9,
   "metadata": {
    "ExecuteTime": {
     "end_time": "2019-02-11T14:30:23.898069Z",
     "start_time": "2019-02-11T14:30:18.306150Z"
    }
   },
   "outputs": [
    {
     "data": {
      "text/plain": [
       "(array([  9.,  14.,  11.,  20.,  34.,  29.,  35.,  49.,  68.,  81.,  95.,\n",
       "         87.,  86., 100.,  88.,  68.,  46.,  28.,  17.]),\n",
       " array([0.  , 0.05, 0.1 , 0.15, 0.2 , 0.25, 0.3 , 0.35, 0.4 , 0.45, 0.5 ,\n",
       "        0.55, 0.6 , 0.65, 0.7 , 0.75, 0.8 , 0.85, 0.9 , 0.95]),\n",
       " <a list of 19 Patch objects>)"
      ]
     },
     "execution_count": 9,
     "metadata": {},
     "output_type": "execute_result"
    },
    {
     "data": {
      "image/png": "[encoded data removed]",
      "text/plain": [
       "<Figure size 432x288 with 1 Axes>"
      ]
     },
     "metadata": {
      "needs_background": "light"
     },
     "output_type": "display_data"
    }
   ],
   "source": [
    "plt.hist(boostrap(talls, 1000), bins=np.arange(0, 1, 0.05))"
   ]
  },
  {
   "cell_type": "markdown",
   "metadata": {},
   "source": [
    "ブーストラップでできた分布がどういう分布になるみたいな法則とかあるんですかね？"
   ]
  }
 ],
 "metadata": {
  "kernelspec": {
   "display_name": "Python 3",
   "language": "python",
   "name": "python3"
  },
  "language_info": {
   "codemirror_mode": {
    "name": "ipython",
    "version": 3
   },
   "file_extension": ".py",
   "mimetype": "text/x-python",
   "name": "python",
   "nbconvert_exporter": "python",
   "pygments_lexer": "ipython3",
   "version": "3.7.0"
  },
  "toc": {
   "base_numbering": 1,
   "nav_menu": {},
   "number_sections": false,
   "sideBar": true,
   "skip_h1_title": false,
   "title_cell": "Table of Contents",
   "title_sidebar": "Contents",
   "toc_cell": false,
   "toc_position": {},
   "toc_section_display": true,
   "toc_window_display": false
  },
  "varInspector": {
   "cols": {
    "lenName": 16,
    "lenType": 16,
    "lenVar": 40
   },
   "kernels_config": {
    "python": {
     "delete_cmd_postfix": "",
     "delete_cmd_prefix": "del ",
     "library": "var_list.py",
     "varRefreshCmd": "print(var_dic_list())"
    },
    "r": {
     "delete_cmd_postfix": ") ",
     "delete_cmd_prefix": "rm(",
     "library": "var_list.r",
     "varRefreshCmd": "cat(var_dic_list()) "
    }
   },
   "types_to_exclude": [
    "module",
    "function",
    "builtin_function_or_method",
    "instance",
    "_Feature"
   ],
   "window_display": false
  }
 },
 "nbformat": 4,
 "nbformat_minor": 2
}
